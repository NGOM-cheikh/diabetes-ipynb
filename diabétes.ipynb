{
  "nbformat": 4,
  "nbformat_minor": 0,
  "metadata": {
    "colab": {
      "provenance": []
    },
    "kernelspec": {
      "name": "python3",
      "display_name": "Python 3"
    },
    "language_info": {
      "name": "python"
    }
  },
  "cells": [
    {
      "cell_type": "code",
      "source": [
        "!pip install pyspark"
      ],
      "metadata": {
        "colab": {
          "base_uri": "https://localhost:8080/"
        },
        "id": "WlE2Er33xPP9",
        "outputId": "c6d3b571-137e-4f3e-c015-be7a4bce9f9d"
      },
      "execution_count": null,
      "outputs": [
        {
          "output_type": "stream",
          "name": "stdout",
          "text": [
            "Collecting pyspark\n",
            "  Downloading pyspark-3.4.1.tar.gz (310.8 MB)\n",
            "\u001b[2K     \u001b[90m━━━━━━━━━━━━━━━━━━━━━━━━━━━━━━━━━━━━━━━\u001b[0m \u001b[32m310.8/310.8 MB\u001b[0m \u001b[31m4.2 MB/s\u001b[0m eta \u001b[36m0:00:00\u001b[0m\n",
            "\u001b[?25h  Preparing metadata (setup.py) ... \u001b[?25l\u001b[?25hdone\n",
            "Requirement already satisfied: py4j==0.10.9.7 in /usr/local/lib/python3.10/dist-packages (from pyspark) (0.10.9.7)\n",
            "Building wheels for collected packages: pyspark\n",
            "  Building wheel for pyspark (setup.py) ... \u001b[?25l\u001b[?25hdone\n",
            "  Created wheel for pyspark: filename=pyspark-3.4.1-py2.py3-none-any.whl size=311285398 sha256=631219b7aff2378b08d105c185e9b8b5e121407606fd06a509bf365a4fac1f8d\n",
            "  Stored in directory: /root/.cache/pip/wheels/0d/77/a3/ff2f74cc9ab41f8f594dabf0579c2a7c6de920d584206e0834\n",
            "Successfully built pyspark\n",
            "Installing collected packages: pyspark\n",
            "Successfully installed pyspark-3.4.1\n"
          ]
        }
      ]
    },
    {
      "cell_type": "code",
      "execution_count": null,
      "metadata": {
        "id": "9bKob1hqBsjz"
      },
      "outputs": [],
      "source": [
        "# installation des librairies\n",
        "#! pip install pyspark\n",
        "\n",
        "from pyspark.sql import SparkSession\n",
        "from pyspark.sql.functions import *\n",
        "from pyspark.ml.feature import VectorAssembler\n",
        "from pyspark.ml.classification import LogisticRegression\n",
        "from pyspark.ml.evaluation import BinaryClassificationEvaluator\n",
        "from pyspark.ml.classification import LogisticRegressionModel\n",
        "from pyspark.ml.classification import RandomForestClassifier\n",
        "from pyspark.sql.functions import col\n",
        "import pandas as pd"
      ]
    },
    {
      "cell_type": "code",
      "source": [
        "spark = SparkSession.builder.appName(\"Modele RF\").getOrCreate()"
      ],
      "metadata": {
        "id": "q6YHyzfYxhNA"
      },
      "execution_count": null,
      "outputs": []
    },
    {
      "cell_type": "code",
      "source": [
        "#df = spark.read.format(\"csv\").option(\"path\",\"/Users/mourtallangom/Downloads/diabetes.csv\").load()\n",
        "df = spark.read.csv('/content/diatebtes.csv', header = True, inferSchema=True) # predit le type de colonnes\n",
        "#df = spark.read.format(\"csv\").option(\"path\", \"/content/diabetes.csv\").load()\n",
        "df.show()"
      ],
      "metadata": {
        "colab": {
          "base_uri": "https://localhost:8080/"
        },
        "id": "PfNF6nItx7G3",
        "outputId": "0a284484-206a-4703-9971-0117c4d2fb32"
      },
      "execution_count": null,
      "outputs": [
        {
          "output_type": "stream",
          "name": "stdout",
          "text": [
            "+----+----+----+----+----+----+-----+---+---------------+\n",
            "|preg|plas|pres|skin|insu|mass| pedi|age|          class|\n",
            "+----+----+----+----+----+----+-----+---+---------------+\n",
            "|   6| 148|  72|  35|   0|33.6|0.627| 50|tested_positive|\n",
            "|   1|  85|  66|  29|   0|26.6|0.351| 31|tested_negative|\n",
            "|   8| 183|  64|   0|   0|23.3|0.672| 32|tested_positive|\n",
            "|   1|  89|  66|  23|  94|28.1|0.167| 21|tested_negative|\n",
            "|   0| 137|  40|  35| 168|43.1|2.288| 33|tested_positive|\n",
            "|   5| 116|  74|   0|   0|25.6|0.201| 30|tested_negative|\n",
            "|   3|  78|  50|  32|  88|31.0|0.248| 26|tested_positive|\n",
            "|  10| 115|   0|   0|   0|35.3|0.134| 29|tested_negative|\n",
            "|   2| 197|  70|  45| 543|30.5|0.158| 53|tested_positive|\n",
            "|   8| 125|  96|   0|   0| 0.0|0.232| 54|tested_positive|\n",
            "|   4| 110|  92|   0|   0|37.6|0.191| 30|tested_negative|\n",
            "|  10| 168|  74|   0|   0|38.0|0.537| 34|tested_positive|\n",
            "|  10| 139|  80|   0|   0|27.1|1.441| 57|tested_negative|\n",
            "|   1| 189|  60|  23| 846|30.1|0.398| 59|tested_positive|\n",
            "|   5| 166|  72|  19| 175|25.8|0.587| 51|tested_positive|\n",
            "|   7| 100|   0|   0|   0|30.0|0.484| 32|tested_positive|\n",
            "|   0| 118|  84|  47| 230|45.8|0.551| 31|tested_positive|\n",
            "|   7| 107|  74|   0|   0|29.6|0.254| 31|tested_positive|\n",
            "|   1| 103|  30|  38|  83|43.3|0.183| 33|tested_negative|\n",
            "|   1| 115|  70|  30|  96|34.6|0.529| 32|tested_positive|\n",
            "+----+----+----+----+----+----+-----+---+---------------+\n",
            "only showing top 20 rows\n",
            "\n"
          ]
        }
      ]
    },
    {
      "cell_type": "code",
      "source": [
        "#verifier le type de colonnes dans le df\n",
        "df.printSchema()"
      ],
      "metadata": {
        "colab": {
          "base_uri": "https://localhost:8080/"
        },
        "id": "R3RRaRSV31TZ",
        "outputId": "5fef8fc4-f6da-484d-f106-f3fb011799c9"
      },
      "execution_count": null,
      "outputs": [
        {
          "output_type": "stream",
          "name": "stdout",
          "text": [
            "root\n",
            " |-- preg: integer (nullable = true)\n",
            " |-- plas: integer (nullable = true)\n",
            " |-- pres: integer (nullable = true)\n",
            " |-- skin: integer (nullable = true)\n",
            " |-- insu: integer (nullable = true)\n",
            " |-- mass: double (nullable = true)\n",
            " |-- pedi: double (nullable = true)\n",
            " |-- age: integer (nullable = true)\n",
            " |-- class: string (nullable = true)\n",
            "\n"
          ]
        }
      ]
    },
    {
      "cell_type": "code",
      "source": [
        "# verifier les dimensions du df\n",
        "print(df.count(), ':', len(df.columns))"
      ],
      "metadata": {
        "colab": {
          "base_uri": "https://localhost:8080/"
        },
        "id": "nX8UDGAb43xO",
        "outputId": "b50d762d-684f-4c01-e598-d936fb9ef9e4"
      },
      "execution_count": null,
      "outputs": [
        {
          "output_type": "stream",
          "name": "stdout",
          "text": [
            "768 : 9\n"
          ]
        }
      ]
    },
    {
      "cell_type": "code",
      "source": [
        "# calculer le nombre de personnes malades et personnes biens portantes dans le dataset\n",
        "df.groupBy(\"class\").count().show()"
      ],
      "metadata": {
        "colab": {
          "base_uri": "https://localhost:8080/"
        },
        "id": "imJhhaKf5IlE",
        "outputId": "6cbf4fba-22fc-491a-8b76-cefa6aafff29"
      },
      "execution_count": null,
      "outputs": [
        {
          "output_type": "stream",
          "name": "stdout",
          "text": [
            "+---------------+-----+\n",
            "|          class|count|\n",
            "+---------------+-----+\n",
            "|tested_positive|  268|\n",
            "|tested_negative|  500|\n",
            "+---------------+-----+\n",
            "\n"
          ]
        }
      ]
    },
    {
      "cell_type": "markdown",
      "source": [
        "Nous avons 500 personnes malades sur l'ensemble des 768 personnes"
      ],
      "metadata": {
        "id": "qtdGf2fc51Pk"
      }
    },
    {
      "cell_type": "code",
      "source": [
        "# Faire une etude descriptive dur le datset\n",
        "df.describe().show()"
      ],
      "metadata": {
        "colab": {
          "base_uri": "https://localhost:8080/"
        },
        "id": "_4e-9w9r6IOK",
        "outputId": "d9a88bda-6fda-4346-ac98-937797a32cf6"
      },
      "execution_count": null,
      "outputs": [
        {
          "output_type": "stream",
          "name": "stdout",
          "text": [
            "+-------+------------------+-----------------+------------------+------------------+------------------+------------------+------------------+------------------+---------------+\n",
            "|summary|              preg|             plas|              pres|              skin|              insu|              mass|              pedi|               age|          class|\n",
            "+-------+------------------+-----------------+------------------+------------------+------------------+------------------+------------------+------------------+---------------+\n",
            "|  count|               768|              768|               768|               768|               768|               768|               768|               768|            768|\n",
            "|   mean|3.8450520833333335|     120.89453125|       69.10546875|20.536458333333332| 79.79947916666667|31.992578124999977|0.4718763020833327|33.240885416666664|           null|\n",
            "| stddev|  3.36957806269887|31.97261819513622|19.355807170644777|15.952217567727642|115.24400235133803| 7.884160320375441| 0.331328595012775|11.760231540678689|           null|\n",
            "|    min|                 0|                0|                 0|                 0|                 0|               0.0|             0.078|                21|tested_negative|\n",
            "|    max|                17|              199|               122|                99|               846|              67.1|              2.42|                81|tested_positive|\n",
            "+-------+------------------+-----------------+------------------+------------------+------------------+------------------+------------------+------------------+---------------+\n",
            "\n"
          ]
        }
      ]
    },
    {
      "cell_type": "markdown",
      "source": [
        "Le tableau montre que les statistiques basiques pour les colonnes numériques. La valeur minimale pour le glucose, l'insuline et la pression sanguine est égale à 0 !. Ces valeurs necessitent d'être nettoyées."
      ],
      "metadata": {
        "id": "X8kOHkDi61rW"
      }
    },
    {
      "cell_type": "markdown",
      "source": [
        "**Nottoyade des données : data cleaning**"
      ],
      "metadata": {
        "id": "CUjRrgCs7Ia3"
      }
    },
    {
      "cell_type": "code",
      "source": [
        "# Vérifier les valeurs manquantes dans le dataset\n",
        "for col in df.columns:\n",
        "  print(col + \":\", df[df[col].isNull()].count())"
      ],
      "metadata": {
        "colab": {
          "base_uri": "https://localhost:8080/"
        },
        "id": "KTZnFK267dgq",
        "outputId": "74d764c1-a0cd-44b9-cec1-234cba8c40ad"
      },
      "execution_count": null,
      "outputs": [
        {
          "output_type": "stream",
          "name": "stdout",
          "text": [
            "preg: 0\n",
            "plas: 0\n",
            "pres: 0\n",
            "skin: 0\n",
            "insu: 0\n",
            "mass: 0\n",
            "pedi: 0\n",
            "age: 0\n",
            "class: 0\n"
          ]
        }
      ]
    },
    {
      "cell_type": "markdown",
      "source": [
        "Notre dataset ne contient aucunes valeurs manquanes"
      ],
      "metadata": {
        "id": "SehtJZfH79Kq"
      }
    },
    {
      "cell_type": "code",
      "source": [
        "# Créer une fonction pour compter le nombre de valeur 0 et leur pourcentage par colonnes\n",
        "def count_zeros(df, columns):\n",
        "  for col in columns:\n",
        "    num_zeros = df.filter(df[col] == 0).count()\n",
        "    total_rows = df.count()\n",
        "    percentage = (num_zeros / total_rows) * 100\n",
        "    print(\"{} : {} ({:.2f}%)\".format(col, num_zeros, percentage))\n"
      ],
      "metadata": {
        "id": "PVnt_ZZM8C1u"
      },
      "execution_count": null,
      "outputs": []
    },
    {
      "cell_type": "code",
      "source": [
        "liste_cols = ['plas', 'pres', 'skin', 'insu', 'mass']\n",
        "count_zeros(df, liste_cols)"
      ],
      "metadata": {
        "colab": {
          "base_uri": "https://localhost:8080/"
        },
        "id": "aNE-LseB9JWD",
        "outputId": "df55b5c2-4dec-46c6-ceca-a4a462ac5bcc"
      },
      "execution_count": null,
      "outputs": [
        {
          "output_type": "stream",
          "name": "stdout",
          "text": [
            "plas : 5 (0.65%)\n",
            "pres : 35 (4.56%)\n",
            "skin : 227 (29.56%)\n",
            "insu : 374 (48.70%)\n",
            "mass : 11 (1.43%)\n"
          ]
        }
      ]
    },
    {
      "cell_type": "markdown",
      "source": [
        "- Ces pourcentages indiquent que la colonne Glucose a le plus faible pourcentage de valeurs nulles, avec seulement 0,65%.\n",
        "- La colonne Insulin a le pourcentage le plus élevé de valeurs nulles, avec 48.70%.\n",
        "- Les autres colonnes ont des pourcentages de valeurs nulles compris entre 1,43% et 29,70%."
      ],
      "metadata": {
        "id": "bOk6Pp7o-ML8"
      }
    },
    {
      "cell_type": "code",
      "source": [
        "# Afficher la valeur moyenne pour chaque colonne  et faire le remplacement\n",
        "for i in df.columns[1:6]:\n",
        "  mean_val = df.agg({i:'mean'}).first()[0]\n",
        "  print(\"la valeur moyenne de la colonne {} est : {}\".format(i, int(mean_val)))\n",
        "  # update the values : si la condition (val ==0) est vrai\n",
        "  df = df.withColumn(i, when(df[i]==0, int(mean_val)).otherwise(df[i]))\n",
        "\n",
        "df.show(15)"
      ],
      "metadata": {
        "colab": {
          "base_uri": "https://localhost:8080/"
        },
        "id": "TRCh2LDU_jcI",
        "outputId": "3bc5a44b-feaa-4187-c040-5e5d3c5cd467"
      },
      "execution_count": null,
      "outputs": [
        {
          "output_type": "stream",
          "name": "stdout",
          "text": [
            "la valeur moyenne de la colonne plas est : 120\n",
            "la valeur moyenne de la colonne pres est : 69\n",
            "la valeur moyenne de la colonne skin est : 20\n",
            "la valeur moyenne de la colonne insu est : 79\n",
            "la valeur moyenne de la colonne mass est : 31\n",
            "+----+----+----+----+----+----+-----+---+---------------+\n",
            "|preg|plas|pres|skin|insu|mass| pedi|age|          class|\n",
            "+----+----+----+----+----+----+-----+---+---------------+\n",
            "|   6| 148|  72|  35|  79|33.6|0.627| 50|tested_positive|\n",
            "|   1|  85|  66|  29|  79|26.6|0.351| 31|tested_negative|\n",
            "|   8| 183|  64|  20|  79|23.3|0.672| 32|tested_positive|\n",
            "|   1|  89|  66|  23|  94|28.1|0.167| 21|tested_negative|\n",
            "|   0| 137|  40|  35| 168|43.1|2.288| 33|tested_positive|\n",
            "|   5| 116|  74|  20|  79|25.6|0.201| 30|tested_negative|\n",
            "|   3|  78|  50|  32|  88|31.0|0.248| 26|tested_positive|\n",
            "|  10| 115|  69|  20|  79|35.3|0.134| 29|tested_negative|\n",
            "|   2| 197|  70|  45| 543|30.5|0.158| 53|tested_positive|\n",
            "|   8| 125|  96|  20|  79|31.0|0.232| 54|tested_positive|\n",
            "|   4| 110|  92|  20|  79|37.6|0.191| 30|tested_negative|\n",
            "|  10| 168|  74|  20|  79|38.0|0.537| 34|tested_positive|\n",
            "|  10| 139|  80|  20|  79|27.1|1.441| 57|tested_negative|\n",
            "|   1| 189|  60|  23| 846|30.1|0.398| 59|tested_positive|\n",
            "|   5| 166|  72|  19| 175|25.8|0.587| 51|tested_positive|\n",
            "+----+----+----+----+----+----+-----+---+---------------+\n",
            "only showing top 15 rows\n",
            "\n"
          ]
        }
      ]
    },
    {
      "cell_type": "markdown",
      "source": [
        "les valeurs sont bien remlacées"
      ],
      "metadata": {
        "id": "U6oBOg6YBDoW"
      }
    },
    {
      "cell_type": "markdown",
      "source": [
        "Construire et entrainer le modèle de machine learning:\n",
        "\n",
        "\n",
        "Feature ingeneering"
      ],
      "metadata": {
        "id": "07GAC9FnBQAf"
      }
    },
    {
      "cell_type": "code",
      "source": [
        "# Calculer le corrélation entre le valeur de réponse et les autres variables\n",
        "#for col in df.columns:\n",
        "  #print('la correlation de {} avec la variable class est {}.'.format(col, df.stat.corr('class', col)))\n",
        "  #print(f'La correlation de  {col} avec la variable class est {df.stat.corr('class', col)}.')\n",
        "\n",
        "X=pd.DataFrame(np.c_[df['preg'],df['plas'],df['pres'],df['insu'],df['mass'],df['pedi'],df['age']], columns = ['preg','plas','pres','skin','insu','mass','pedi','age'])\n",
        "Y = df['class']"
      ],
      "metadata": {
        "id": "WWPOVZJzBb74"
      },
      "execution_count": null,
      "outputs": []
    },
    {
      "cell_type": "code",
      "source": [
        "# creer un vectorAssembler : c'est un feature transformer qui merge les différentes colonnes dans un seul vecteur (features).\n",
        "inputCols = ['preg' , 'plas' , 'pres', 'skin' , 'insu' , 'mass' , 'pedi' ,'age'  ]\n",
        "assembler = VectorAssembler(inputCols= inputCols, outputCol='features')\n",
        "output_data = assembler.transform(df)"
      ],
      "metadata": {
        "id": "u5IvYWhKS4ep"
      },
      "execution_count": null,
      "outputs": []
    },
    {
      "cell_type": "code",
      "source": [
        "# verifier si la colonne est rajoutée au dataframe\n",
        "output_data.printSchema()"
      ],
      "metadata": {
        "colab": {
          "base_uri": "https://localhost:8080/"
        },
        "id": "ljaPkCdWTcIt",
        "outputId": "198641c7-7e26-4c96-fb56-a017b47e37d6"
      },
      "execution_count": null,
      "outputs": [
        {
          "output_type": "stream",
          "name": "stdout",
          "text": [
            "root\n",
            " |-- preg: integer (nullable = true)\n",
            " |-- plas: integer (nullable = true)\n",
            " |-- pres: integer (nullable = true)\n",
            " |-- skin: integer (nullable = true)\n",
            " |-- insu: integer (nullable = true)\n",
            " |-- mass: double (nullable = true)\n",
            " |-- pedi: double (nullable = true)\n",
            " |-- age: integer (nullable = true)\n",
            " |-- class: string (nullable = true)\n",
            " |-- features: vector (nullable = true)\n",
            "\n"
          ]
        }
      ]
    },
    {
      "cell_type": "markdown",
      "source": [
        "Entrainer le modèle"
      ],
      "metadata": {
        "id": "Un6UhNYKTyRR"
      }
    },
    {
      "cell_type": "code",
      "source": [
        "# séléctionner les colonnes d'interer\n",
        "final_df = output_data.select('features', 'class')\n",
        "final_df.show(2)"
      ],
      "metadata": {
        "colab": {
          "base_uri": "https://localhost:8080/"
        },
        "id": "dAzZK5JuTuh3",
        "outputId": "5fa8f1fa-0cba-472f-e55e-5c64466292bc"
      },
      "execution_count": null,
      "outputs": [
        {
          "output_type": "stream",
          "name": "stdout",
          "text": [
            "+--------------------+---------------+\n",
            "|            features|          class|\n",
            "+--------------------+---------------+\n",
            "|[6.0,148.0,72.0,3...|tested_positive|\n",
            "|[1.0,85.0,66.0,29...|tested_negative|\n",
            "+--------------------+---------------+\n",
            "only showing top 2 rows\n",
            "\n"
          ]
        }
      ]
    },
    {
      "cell_type": "code",
      "source": [
        "# Diviser les données en ensembles d'entraînement(70%) et de test(30%)\n",
        "train, test = df.randomSplit([0.7, 0.3], seed=42)"
      ],
      "metadata": {
        "id": "ZbZ3fU3aSHAH"
      },
      "execution_count": null,
      "outputs": []
    },
    {
      "cell_type": "code",
      "source": [
        "# créer le modèle\n",
        "models = LogisticRegression(labelCol='class')"
      ],
      "metadata": {
        "id": "TOgYsQxgUXCV"
      },
      "execution_count": null,
      "outputs": []
    },
    {
      "cell_type": "code",
      "source": [
        "# Créer le modèle\n",
        "rf = RandomForestClassifier(numTrees=10, maxDepth=5, seed=42)"
      ],
      "metadata": {
        "id": "j1Ur-Td6Z0aT"
      },
      "execution_count": null,
      "outputs": []
    },
    {
      "cell_type": "code",
      "source": [
        "# entrainer le modèle\n",
        "model = models.fit(df)"
      ],
      "metadata": {
        "id": "IoxnrsZrbDBi"
      },
      "execution_count": null,
      "outputs": []
    },
    {
      "cell_type": "code",
      "source": [
        "# afficher le sommaire\n",
        "summary = model.summary"
      ],
      "metadata": {
        "id": "64g7cf7_XIHJ"
      },
      "execution_count": null,
      "outputs": []
    },
    {
      "cell_type": "code",
      "source": [
        "## les prédictions\n",
        "summary.predictions.show()\n",
        "summary.predictions.describe().show()"
      ],
      "metadata": {
        "id": "TlQYgsM-pX2I"
      },
      "execution_count": null,
      "outputs": []
    }
  ]
}